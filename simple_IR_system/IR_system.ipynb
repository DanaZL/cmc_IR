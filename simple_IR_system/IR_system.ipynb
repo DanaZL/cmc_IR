{
 "cells": [
  {
   "cell_type": "code",
   "execution_count": 28,
   "metadata": {
    "collapsed": false
   },
   "outputs": [],
   "source": [
    "from bs4 import BeautifulSoup\n",
    "from bs4.element import Comment\n",
    "import urllib\n",
    "import os\n",
    "import pymorphy2\n",
    "\n",
    "RusLem = pymorphy2.MorphAnalyzer()\n",
    "\n",
    "def bprint(l, sep = \" \"):\n",
    "    print sep.join(l)"
   ]
  },
  {
   "cell_type": "code",
   "execution_count": 23,
   "metadata": {
    "collapsed": false
   },
   "outputs": [],
   "source": [
    "def tag_visible(element):\n",
    "    if element.parent.name in ['style', 'script', 'head', 'title', 'meta', '[document]']:\n",
    "        return False\n",
    "    if isinstance(element, Comment):\n",
    "        return False\n",
    "    return True\n",
    "\n",
    "\n",
    "def text_from_html(body):\n",
    "    soup = BeautifulSoup(body, 'html.parser')\n",
    "    texts = soup.findAll(text=True)\n",
    "    visible_texts = filter(tag_visible, texts)  \n",
    "    return u\" \".join(t.strip() for t in visible_texts)\n",
    " \n",
    "\n",
    "#get list of sentences from html pages\n",
    "def prepare_html_pages(html_dir):\n",
    "    html_files = os.listdir(html_dir)\n",
    "    sentences = []\n",
    "    for filename in html_files:\n",
    "        text = \"\" \n",
    "        with open(html_dir + filename, \"r\") as f:\n",
    "            for line in f:\n",
    "                text += line\n",
    "                \n",
    "        visible_text = text_from_html(text)\n",
    "        sentences += visible_text.strip().split(\".\")\n",
    "    \n",
    "    return sentences\n",
    "\n",
    "#sentences_normaliation\n",
    "def normalization(sentences):\n",
    "    for i, sent in enumerate(sentences):\n",
    "        tokens = re.findall('[\\w]+', sent.strip().lower(), re.U)\n",
    "        sentences[i] = [RusLem.parse(token)[0].normal_form for token in tokens]\n",
    "    return sentences\n",
    "\n",
    "#creating forward index {sent_id: list of word} and token_dictionary\n",
    "def create_forward_index(sentences):\n",
    "    forward_index = {}\n",
    "    token_list = set()\n",
    "    for sent_id, sent in enumerate(sentences):\n",
    "        forward_index[sent_id] = sent.strip().split()\n",
    "        for token in sent.strip().split():\n",
    "            token_list.add(token)\n",
    "        \n",
    "    return forward_index, list(token_list)\n",
    "\n",
    "def calculate_idf(forward_index, token_list):\n",
    "    cnt_sentences = len(forward_index)\n",
    "    token_df = {token:0 for token in token_list}\n",
    "    for tokens in forward_index.values():\n",
    "        for token in token:\n",
    "            token_df[token] += 1\n",
    "    token_idf = {token:log(cnt_sentences / float(token_df[token])) for token in token_df}\n",
    "    return token_idf\n",
    "\n",
    "#create sentence vector\n",
    "def doc2vec(sentence, token_list, token_idf, idf=False):\n",
    "    vector = [sentence.count(token) for token in token_list]\n",
    "    if idf:\n",
    "        vector = [np.log(1 + c) * np.log(token_idf[token_list[i]]) for i, c in enumerate(vector)]\n",
    "    return vector\n",
    "\n",
    "\n",
    "\n",
    "\n",
    "        \n"
   ]
  },
  {
   "cell_type": "code",
   "execution_count": 24,
   "metadata": {
    "collapsed": false
   },
   "outputs": [
    {
     "name": "stdout",
     "output_type": "stream",
     "text": [
      "1169   Marc Okrand [mɑrk ˈoʊkrænd]; 3 июля  1948 ) — американский  лингвист , известен как создатель языков для народов фантастических миров кинематографа США ( клингонский , вулканский и атлантский языки)  В конце века после падения основной их части, была реанимирована политическая активность христианских и исламских фундаменталистов, Римского понтифика и Далай-Ламы\n",
      "1169 Считается, что последний носитель языка мутсун умер в 1930 году\n",
      "None\n"
     ]
    }
   ],
   "source": [
    "x = prepare_html_pages(\"./htmls/\")\n",
    "print len(x), x[1], x[100]\n",
    "t = create_forward_index(x)\n",
    "print len(t), bprint(t[10])"
   ]
  },
  {
   "cell_type": "code",
   "execution_count": null,
   "metadata": {
    "collapsed": true
   },
   "outputs": [],
   "source": []
  }
 ],
 "metadata": {
  "anaconda-cloud": {},
  "kernelspec": {
   "display_name": "Python [default]",
   "language": "python",
   "name": "python2"
  },
  "language_info": {
   "codemirror_mode": {
    "name": "ipython",
    "version": 2
   },
   "file_extension": ".py",
   "mimetype": "text/x-python",
   "name": "python",
   "nbconvert_exporter": "python",
   "pygments_lexer": "ipython2",
   "version": "2.7.12"
  }
 },
 "nbformat": 4,
 "nbformat_minor": 2
}
