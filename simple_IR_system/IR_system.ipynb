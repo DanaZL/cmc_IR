{
 "cells": [
  {
   "cell_type": "code",
   "execution_count": 1,
   "metadata": {
    "collapsed": false
   },
   "outputs": [],
   "source": [
    "from bs4 import BeautifulSoup\n",
    "from bs4.element import Comment\n",
    "import urllib\n",
    "import os\n",
    "import pymorphy2\n",
    "import re\n",
    "from copy import deepcopy\n",
    "import operator\n",
    "import numpy as np\n",
    "\n",
    "RusLem = pymorphy2.MorphAnalyzer()\n",
    "\n",
    "def bprint(l, sep = \" \"):\n",
    "    print sep.join(l)"
   ]
  },
  {
   "cell_type": "code",
   "execution_count": 3,
   "metadata": {
    "collapsed": false
   },
   "outputs": [],
   "source": [
    "def tag_visible(element):\n",
    "    if element.parent.name in ['style', 'script', 'head', 'title', 'meta', '[document]']:\n",
    "        return False\n",
    "    if isinstance(element, Comment):\n",
    "        return False\n",
    "    return True\n",
    "\n",
    "\n",
    "def text_from_html(body):\n",
    "    soup = BeautifulSoup(body, 'html.parser')\n",
    "    texts = soup.findAll(text=True)\n",
    "    visible_texts = filter(tag_visible, texts)  \n",
    "    return u\" \".join(t.strip() for t in visible_texts)\n",
    " \n",
    "\n",
    "#get list of sentences from html pages\n",
    "def prepare_html_pages(html_dir):\n",
    "    html_files = os.listdir(html_dir)\n",
    "    sentences = []\n",
    "    for filename in html_files:\n",
    "        text = \"\" \n",
    "        with open(html_dir + filename, \"r\") as f:\n",
    "            for line in f:\n",
    "                text += line\n",
    "                \n",
    "        visible_text = text_from_html(text)\n",
    "        sentences += visible_text.strip().split(\".\")\n",
    "    \n",
    "    return sentences\n",
    "\n",
    "\n",
    "#sentences_normaliation\n",
    "def normalization(sentences):\n",
    "    for i, sent in enumerate(sentences):\n",
    "        tokens = re.findall('[\\w]+', sent.strip().lower(), re.U)\n",
    "        sentences[i] = \" \".join([RusLem.parse(token)[0].normal_form for token in tokens])\n",
    "    return sentences\n",
    "\n",
    "\n",
    "#creating forward index {sent_id: list of word} and token_dictionary\n",
    "def create_forward_index(sentences):\n",
    "    forward_index = {}\n",
    "    token_list = set()\n",
    "    for sent_id, sent in enumerate(sentences):\n",
    "        if 1 < len(sent.strip().split()) <= 40:\n",
    "            forward_index[sent_id] = sent.strip().split()\n",
    "            for token in sent.strip().split():\n",
    "                token_list.add(token)\n",
    "        \n",
    "    return forward_index, list(token_list)\n",
    "\n",
    "\n",
    "def calculate_idf(forward_index, token_list):\n",
    "    cnt_sentences = len(forward_index)\n",
    "    token_df = {token:0 for token in token_list}\n",
    "    for tokens in forward_index.values():\n",
    "        for token in tokens:\n",
    "            token_df[token] += 1\n",
    "    token_idf = {token:np.log(cnt_sentences / float(token_df[token])) for token in token_df}\n",
    "    return token_idf\n",
    "\n",
    "def vec_normalization(vector):\n",
    "    return vector / (1.0 * np.sqrt(np.sum(vector**2)))\n",
    "\n",
    "def cos_similarity(vec_1, vec_2):\n",
    "    return np.sum(vec_1 * vec_2) / float(np.sqrt(np.sum(vec_1**2)) * np.sqrt(np.sum(vec_2**2)))\n",
    "    \n",
    "class Collection(object):\n",
    "    def __init__(self, htmls_dir=\"./htmls/\"):\n",
    "        self.raw_sentences = prepare_html_pages(htmls_dir)\n",
    "        print len(self.raw_sentences)\n",
    "        self.norm_sentences = normalization(deepcopy(self.raw_sentences))\n",
    "        print len(self.norm_sentences)\n",
    "        self.forward_index, self.token_list = create_forward_index(self.norm_sentences)\n",
    "        print len(self.forward_index)\n",
    "        self.token_idf = calculate_idf(self.forward_index, self.token_list)\n",
    "        \n",
    "    def doc2vec(self, sentence, idf=False):\n",
    "        \"\"\"\n",
    "        Create sentence normalized vector\n",
    "        \"\"\"\n",
    "        vector = [sentence.count(token) for token in self.token_list]\n",
    "#         print sum(vector)\n",
    "        if idf:\n",
    "            vector = [c * np.log(self.token_idf[self.token_list[i]])\n",
    "                      for i, c in enumerate(vector)]\n",
    "            \n",
    "        return np.asarray(vector)\n",
    "        \n",
    "    def sents2vectors(self):\n",
    "        self.simple_vectors = {sent_idx:vec_normalization(\n",
    "                                        self.doc2vec(self.forward_index[sent_idx], idf=False)\n",
    "                                        )\n",
    "                               for sent_idx in self.forward_index.keys()}\n",
    "        \n",
    "        self.idf_vectors = {sent_idx:vec_normalization(\n",
    "                                    self.doc2vec(self.forward_index[sent_idx], idf=True)\n",
    "                                    )\n",
    "                               for sent_idx in self.forward_index.keys()}\n",
    "        \n",
    "    def ranking(self, query):\n",
    "        norm_query = normalization([query])[0]\n",
    "        bprint([norm_query])\n",
    "        query_vec_simple = self.doc2vec(norm_query.strip().split(), idf=False)\n",
    "        query_vec_idf = self.doc2vec(norm_query.strip().split(), idf=True)\n",
    "\n",
    "        rank_simple = {}\n",
    "        rank_tfidf = {}\n",
    "        for sent_idx in self.simple_vectors.keys():\n",
    "            rank_simple[sent_idx] = cos_similarity(query_vec_simple,\n",
    "                                                   self.simple_vectors[sent_idx])\n",
    "            rank_tfidf[sent_idx] = cos_similarity(query_vec_idf,\n",
    "                                                   self.idf_vectors[sent_idx])\n",
    "        \n",
    "        return rank_simple, rank_tfidf\n",
    "            \n",
    "\n",
    "def print_serp(rank, query, sent_cnt = 10):\n",
    "    sorted_rank = sorted(rank.items(), key = operator.itemgetter(1), reverse=True)\n",
    "    print \"Query:\",\n",
    "    bprint([query])\n",
    "    print \"\\n\"\n",
    "    \n",
    "    for idx, pair in enumerate(sorted_rank):\n",
    "#         print idx, pair\n",
    "        if idx > sent_cnt:\n",
    "            break\n",
    "        print pair[1], \"\\t\",\n",
    "        bprint(collection.forward_index[pair[0]])\n",
    "        print"
   ]
  },
  {
   "cell_type": "code",
   "execution_count": 4,
   "metadata": {
    "collapsed": false,
    "scrolled": true
   },
   "outputs": [
    {
     "name": "stdout",
     "output_type": "stream",
     "text": [
      "1169\n",
      "1169\n",
      "933\n"
     ]
    }
   ],
   "source": [
    "collection = Collection()\n",
    "collection.sents2vectors()"
   ]
  },
  {
   "cell_type": "code",
   "execution_count": 5,
   "metadata": {
    "collapsed": false
   },
   "outputs": [],
   "source": [
    "query_1 = u\"В начале XX века немецкий учитель математики, сам того не желая, научил лошадь считать.\"\n",
    "query_2 = u\"Искусственный язык для фантастической вселенной «Звёздный путь» создал профессиональный лингвист\"\n",
    "query_3 = u\"На территории России были обнаружены останки ниппонозаврa, амурозаврa,целурозаврa и другие виды динозавров.\""
   ]
  },
  {
   "cell_type": "code",
   "execution_count": 6,
   "metadata": {
    "collapsed": false
   },
   "outputs": [
    {
     "name": "stdout",
     "output_type": "stream",
     "text": [
      "в начало xx век немецкий учитель математика сам тот не желать научить лошадь считать\n",
      "искусственный язык для фантастический вселенная звёздный путь создать профессиональный лингвист\n",
      "на территория россия быть обнаружить останки ниппонозаврa амурозаврa целурозаврa и другой вид динозавр\n"
     ]
    }
   ],
   "source": [
    "rank_simple_1, rank_idf_1 = collection.ranking(query=query_1)\n",
    "rank_simple_2, rank_idf_2 = collection.ranking(query=query_2)\n",
    "rank_simple_3, rank_idf_3 = collection.ranking(query=query_3)"
   ]
  },
  {
   "cell_type": "code",
   "execution_count": 7,
   "metadata": {
    "collapsed": false
   },
   "outputs": [
    {
     "name": "stdout",
     "output_type": "stream",
     "text": [
      "Query: В начале XX века немецкий учитель математики, сам того не желая, научил лошадь считать.\n",
      "\n",
      "\n",
      "0.284747398726 \tв начало век популярный в сша стать блюз и джаз который сохранять свой господство в музыка до появление рок н ролл в 1950 х год\n",
      "\n",
      "0.283069258536 \tсодержание скрыть 1 основной событие 2 главный изобретение 3 использование сочетание xx век в название 4 двадцатый век в искусство 5 смотреть\n",
      "\n",
      "0.283069258536 \tтакже править править вика текст в викитека есть текст по тема документ xx век xx век хронология изобретение\n",
      "\n",
      "0.283069258536 \txxii век править править вика текст в начало xxii век в клингонский общество повсеместно усилиться влияние класс воин\n",
      "\n",
      "0.277350098113 \tв многий страна в тот число и в россия в 21 век наблюдаться тенденция к снижение престижность педагогический профессия и как следствие недооценённость учительский труд\n",
      "\n",
      "0.273861278753 \tв сша один из крупный киностудия называться xx век фокс\n",
      "\n",
      "0.258198889747 \tучитель в образовательный процесс править править вика текст монумент учитель и ученик в росток\n",
      "\n",
      "0.258198889747 \tкомпонент педагогический культура учитель в\n",
      "\n",
      "0.25515518154 \tтем не менее в конец хх век инфекционный болезнь впервые в история человечество уступить первенство в качество причина смерть заболевание сердечно сосудистый система и злокачественный новообразование\n",
      "\n",
      "0.246182981959 \tтем не менее в результат реформа средний заработный плата учитель в москва с 2010 по 2014 год вырасти на 79\n",
      "\n",
      "0.240771706172 \tвизуальный культура стать доминировать не только в кино и телевидение но проникнуть в литература в вид комикс\n",
      "\n"
     ]
    }
   ],
   "source": [
    "print_serp(rank_simple_1, query_1)"
   ]
  },
  {
   "cell_type": "code",
   "execution_count": 8,
   "metadata": {
    "collapsed": false
   },
   "outputs": [
    {
     "name": "stdout",
     "output_type": "stream",
     "text": [
      "Query: В начале XX века немецкий учитель математики, сам того не желая, научил лошадь считать.\n",
      "\n",
      "\n",
      "0.30095035986 \tганс считать\n",
      "\n",
      "0.242162149102 \tдругой слово ганс быть действительно феноменально умный лошадь и прекрасно понимать что от он хотеть но конечно ни математика ни немецкий язык он не знать и не понимать\n",
      "\n",
      "0.217894923247 \tтакже править править вика текст в викитека есть текст по тема документ xx век xx век хронология изобретение\n",
      "\n",
      "0.185836111712 \tкомиссия возглавить философ и психолог карл штумпф в состав её войти самый разный человек чей профессия быть так или иначе связать с лошадь математика или психология врач ветеринар владелец цирк офицер кавалерия несколько школьный учитель математика и директор берлинский зоопарк\n",
      "\n",
      "0.16384848594 \tназвание популярный советский боевик пират xx век\n",
      "\n",
      "0.151959371158 \tначало эпидемия спид\n",
      "\n",
      "0.149983079329 \tв сша один из крупный киностудия называться xx век фокс\n",
      "\n",
      "0.147979632671 \tнекоторый считать что дромеозаврид группа манираптор хороший классифицировать как птица а не динозавр 2\n",
      "\n",
      "0.144037633628 \tсам себя задавать темп работа\n",
      "\n",
      "0.14387317272 \tв советский союз и рф до 1995 год выходить журнал век xx и мир\n",
      "\n",
      "0.143677419104 \tсам применение вычислительный техника в второй половина хх век изменить характер математический вычисление заставить математик отказаться от метод классический математический анализ и перейти к метод дискретный прикладной математика\n",
      "\n"
     ]
    }
   ],
   "source": [
    "print_serp(rank_idf_1, query_1)"
   ]
  },
  {
   "cell_type": "code",
   "execution_count": 9,
   "metadata": {
    "collapsed": false
   },
   "outputs": [
    {
     "name": "stdout",
     "output_type": "stream",
     "text": [
      "Query: Искусственный язык для фантастической вселенной «Звёздный путь» создал профессиональный лингвист\n",
      "\n",
      "\n",
      "0.36514837167 \tзвёздный путь англ\n",
      "\n",
      "0.363912671437 \tон известный как сценарист другой сериал в вселенная звёздный путь звёздный путь глубокий космос 9 1993 1999 звёздный путь в яджер 1995 2001\n",
      "\n",
      "0.350823207723 \tвселенная звёздный путь один из наиболее детально проработать вымышленный вселенная 1\n",
      "\n",
      "0.34749779421 \tон являться режиссёр и сценарист три фильм из серия звёздный путь звёздный путь ii гнев хан 1982 звёздный путь iv путешествие домой 1986 звёздный путь vi неоткрытый страна 1991\n",
      "\n",
      "0.338061701891 \tосновный статья звёздный путь энтерпрайза звёздный путь энтерпра йз англ\n",
      "\n",
      "0.335410196625 \tон создать специально для фильм лингвист марк окранд\n",
      "\n",
      "0.316227766017 \t2 звёздный путь 1\n",
      "\n",
      "0.310086836473 \tmarc okrand mɑrk ˈoʊkrænd 3 июль 1948 американский лингвист известный как создатель язык для народ фантастический мир кинематограф сша клингонский вулканский и атлантский язык\n",
      "\n",
      "0.282842712475 \tзвёздный путь исполниться 40 англ\n",
      "\n",
      "0.282842712475 \tklingons ˈ k l ɪ ŋ ɒ n вымышленный инопланетный цивилизация гуманоид воин из научно фантастический вселенная звёздный путь 1\n",
      "\n",
      "0.271163072273 \tавтор идея и основатель вселенная звёздный путь ведущий свой начало с выход на экран 8 сентябрь 1966 год сериал звёздный путь оригинальный сериал являться джина родденберри 1 2\n",
      "\n"
     ]
    }
   ],
   "source": [
    "print_serp(rank_simple_2, query_2)"
   ]
  },
  {
   "cell_type": "code",
   "execution_count": 10,
   "metadata": {
    "collapsed": false
   },
   "outputs": [
    {
     "name": "stdout",
     "output_type": "stream",
     "text": [
      "Query: Искусственный язык для фантастической вселенной «Звёздный путь» создал профессиональный лингвист\n",
      "\n",
      "\n",
      "0.349282738206 \tон создать специально для фильм лингвист марк окранд\n",
      "\n",
      "0.288200424825 \tmarc okrand mɑrk ˈoʊkrænd 3 июль 1948 американский лингвист известный как создатель язык для народ фантастический мир кинематограф сша клингонский вулканский и атлантский язык\n",
      "\n",
      "0.243760095689 \tвселенная звёздный путь один из наиболее детально проработать вымышленный вселенная 1\n",
      "\n",
      "0.222160411704 \tон известный как сценарист другой сериал в вселенная звёздный путь звёздный путь глубокий космос 9 1993 1999 звёздный путь в яджер 1995 2001\n",
      "\n",
      "0.215633043521 \tможно выделить следующий уровень профессиональный подготовка педагог существующий в настоящее время уровень профессиональный ориентация педагогический класс школа среднее профессиональный образование педагогический колледж высокий профессиональный образование высокий учебный заведение подготовка научно педагогический кадр для высокий профессиональный образование аспирантура докторантура\n",
      "\n",
      "0.208211762035 \tзвёздный путь англ\n",
      "\n",
      "0.195002916722 \tklingons ˈ k l ɪ ŋ ɒ n вымышленный инопланетный цивилизация гуманоид воин из научно фантастический вселенная звёздный путь 1\n",
      "\n",
      "0.191623322655 \t2 звёздный путь 1\n",
      "\n",
      "0.16219116977 \tавтор идея и основатель вселенная звёздный путь ведущий свой начало с выход на экран 8 сентябрь 1966 год сериал звёздный путь оригинальный сериал являться джина родденберри 1 2\n",
      "\n",
      "0.161542086064 \tраса править править вика текст основный статья раса star trek вселенная звёздный путь англ\n",
      "\n",
      "0.159298619224 \tон являться режиссёр и сценарист три фильм из серия звёздный путь звёздный путь ii гнев хан 1982 звёздный путь iv путешествие домой 1986 звёздный путь vi неоткрытый страна 1991\n",
      "\n"
     ]
    }
   ],
   "source": [
    "print_serp(rank_idf_2, query_2)"
   ]
  },
  {
   "cell_type": "code",
   "execution_count": 11,
   "metadata": {
    "collapsed": false
   },
   "outputs": [
    {
     "name": "stdout",
     "output_type": "stream",
     "text": [
      "Query: На территории России были обнаружены останки ниппонозаврa, амурозаврa,целурозаврa и другие виды динозавров.\n",
      "\n",
      "\n",
      "0.362738125055 \tпервый и единственный неполный скелет быть обнаружить японец в 1934 год на территория больница в синегорск сахалин\n",
      "\n",
      "0.3 \tуметь слушать и слышать другой и иной мнение\n",
      "\n",
      "0.283980917124 \tтранспорт тысячелетие основать на конный тяга быть на протяжение хх век заменить на грузовой автомобиль и автобус что стать возможный благодаря крупномасштабный эксплуатация ископаемое топливо\n",
      "\n",
      "0.282842712475 \tскульптура учитель на территория мади\n",
      "\n",
      "0.279751442472 \tсреди вопрос на который он давать ответ быть не только такой как сколько быть 12 12 но и например если восьмой день месяц приходиться на вторник то какой день по счёт быть следующий пятница\n",
      "\n",
      "0.273861278753 \tдля клингонский важно быть быть непохожий на привычный земной язык\n",
      "\n",
      "0.258198889747 \tрезультат исследование пфунгст быть принять научный сообщество и использоваться в эксперимент по интеллект животное и человек чтобы избежать влияние экспериментатор на испытуемый\n",
      "\n",
      "0.258198889747 \tорнитомимозавр немалоизвестный похожий на страус динозавр\n",
      "\n",
      "0.258198889747 \tбрать на себя обязательство и ответственность\n",
      "\n",
      "0.253546276419 \tбеспилотный космический зонд стать практический и относительно недорогой вид разведка и телекоммуникация\n",
      "\n",
      "0.253546276419 \tдругой примитивный целурозавр орнитолестёс и целура последний изобразить на иллюстрация жить немного поздний процератозавр\n",
      "\n"
     ]
    }
   ],
   "source": [
    "print_serp(rank_simple_3, query_3)"
   ]
  },
  {
   "cell_type": "code",
   "execution_count": 12,
   "metadata": {
    "collapsed": false
   },
   "outputs": [
    {
     "name": "stdout",
     "output_type": "stream",
     "text": [
      "Query: На территории России были обнаружены останки ниппонозаврa, амурозаврa,целурозаврa и другие виды динозавров.\n",
      "\n",
      "\n",
      "0.286927874807 \tпервый и единственный неполный скелет быть обнаружить японец в 1934 год на территория больница в синегорск сахалин\n",
      "\n",
      "0.24572800686 \tскульптура учитель на территория мади\n",
      "\n",
      "0.21050651436 \tединственный известный вид amurosaurus riabinini назвать в честь покойный палеонтолог анатолий рябинин который возглавить первый русский экспедиция 1916 и 1917 год для поиск окаменелый останки динозавр 4 5\n",
      "\n",
      "0.159383066239 \tпомогать другой\n",
      "\n",
      "0.149710852665 \tорнитомимозавр немалоизвестный похожий на страус динозавр\n",
      "\n",
      "0.148047065197 \tпандемия а в конец век быть обнаружить новое вирусный заболевание спид который возникнуть в африка\n",
      "\n",
      "0.147064411445 \tamurosaurus родиться птицетазовый динозавр из подсемейство ламбеозаврин жить в конец меловой период верхний маастрихта 2 найти в россия в благовещенск 3\n",
      "\n",
      "0.143146067901 \tбыть вскрыть лишь небольшой часть слой но 90 найти останки принадлежать ламбеозаврина такой как амурозавр в основное подросток остальной принадлежать другой таксон например гадрозаврид kerberosaurus\n",
      "\n",
      "0.141604093381 \t6 вид индивидуальный стиль педагогический деятельность 2\n",
      "\n",
      "0.133993126432 \tо другой значение смотреть\n",
      "\n",
      "0.1246960871 \tо четырёхкрылый динозавр и происхождение птица природа\n",
      "\n"
     ]
    }
   ],
   "source": [
    "print_serp(rank_idf_3, query_3)"
   ]
  }
 ],
 "metadata": {
  "anaconda-cloud": {},
  "kernelspec": {
   "display_name": "Python [default]",
   "language": "python",
   "name": "python2"
  },
  "language_info": {
   "codemirror_mode": {
    "name": "ipython",
    "version": 2
   },
   "file_extension": ".py",
   "mimetype": "text/x-python",
   "name": "python",
   "nbconvert_exporter": "python",
   "pygments_lexer": "ipython2",
   "version": "2.7.12"
  }
 },
 "nbformat": 4,
 "nbformat_minor": 2
}
