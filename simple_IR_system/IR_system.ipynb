{
 "cells": [
  {
   "cell_type": "code",
   "execution_count": 52,
   "metadata": {
    "collapsed": false
   },
   "outputs": [],
   "source": [
    "from bs4 import BeautifulSoup\n",
    "from bs4.element import Comment\n",
    "import urllib\n",
    "import os\n",
    "import pymorphy2\n",
    "import re\n",
    "from copy import deepcopy\n",
    "import numpy as np\n",
    "\n",
    "RusLem = pymorphy2.MorphAnalyzer()\n",
    "\n",
    "def bprint(l, sep = \" \"):\n",
    "    print sep.join(l)"
   ]
  },
  {
   "cell_type": "code",
   "execution_count": 42,
   "metadata": {
    "collapsed": false
   },
   "outputs": [],
   "source": [
    "def tag_visible(element):\n",
    "    if element.parent.name in ['style', 'script', 'head', 'title', 'meta', '[document]']:\n",
    "        return False\n",
    "    if isinstance(element, Comment):\n",
    "        return False\n",
    "    return True\n",
    "\n",
    "\n",
    "def text_from_html(body):\n",
    "    soup = BeautifulSoup(body, 'html.parser')\n",
    "    texts = soup.findAll(text=True)\n",
    "    visible_texts = filter(tag_visible, texts)  \n",
    "    return u\" \".join(t.strip() for t in visible_texts)\n",
    " \n",
    "\n",
    "#get list of sentences from html pages\n",
    "def prepare_html_pages(html_dir):\n",
    "    html_files = os.listdir(html_dir)\n",
    "    sentences = []\n",
    "    for filename in html_files:\n",
    "        text = \"\" \n",
    "        with open(html_dir + filename, \"r\") as f:\n",
    "            for line in f:\n",
    "                text += line\n",
    "                \n",
    "        visible_text = text_from_html(text)\n",
    "        sentences += visible_text.strip().split(\".\")\n",
    "    \n",
    "    return sentences\n",
    "\n",
    "\n",
    "#sentences_normaliation\n",
    "def normalization(sentences):\n",
    "    for i, sent in enumerate(sentences):\n",
    "        tokens = re.findall('[\\w]+', sent.strip().lower(), re.U)\n",
    "        sentences[i] = \" \".join([RusLem.parse(token)[0].normal_form for token in tokens])\n",
    "    return sentences\n",
    "\n",
    "\n",
    "#creating forward index {sent_id: list of word} and token_dictionary\n",
    "def create_forward_index(sentences):\n",
    "    forward_index = {}\n",
    "    token_list = set()\n",
    "    for sent_id, sent in enumerate(sentences):\n",
    "        forward_index[sent_id] = sent.strip().split()\n",
    "        for token in sent.strip().split():\n",
    "            token_list.add(token)\n",
    "        \n",
    "    return forward_index, list(token_list)\n",
    "\n",
    "\n",
    "def calculate_idf(forward_index, token_list):\n",
    "    cnt_sentences = len(forward_index)\n",
    "    token_df = {token:0 for token in token_list}\n",
    "    for tokens in forward_index.values():\n",
    "        for token in tokens:\n",
    "            token_df[token] += 1\n",
    "    token_idf = {token:np.log(cnt_sentences / float(token_df[token])) for token in token_df}\n",
    "    return token_idf\n",
    "\n",
    "def vec_normalization(vector):\n",
    "    return vector / (1.0 * np.sqrt(np.sum(vector**2)))\n",
    "\n",
    "\n",
    "\n",
    "def cos_similarity(vec_1, vec_2):\n",
    "     return np.sum(vec_1 * vec_2) / float(np.sqrt(np.sum(vec_1**2)) * np.sqrt(np.sum(vec_2**2)))\n",
    "    \n",
    "class Collection(object):\n",
    "    def __init__(self, htmls_dir=\"./htmls/\"):\n",
    "        self.raw_sentences = prepare_html_pages(htmls_dir)\n",
    "        self.norm_sentences = normalization(deepcopy(raw_sentences))\n",
    "        self.forward_index, token_list = create_forward_index(norm_sentences)\n",
    "        self.tokens_idf = calculate_idf(forward_index, token_list)\n",
    "        \n",
    "    def doc2vec(self, sentence, idf=False):\n",
    "        \"\"\"\n",
    "        Create sentence normalized vector\n",
    "        \"\"\"\n",
    "        vector = [sentence.count(token) for token in self.token_list]\n",
    "        if idf:\n",
    "            vector = [np.log(1 + c) * np.log(self.token_idf[self.token_list[i]])\n",
    "                      for i, c in enumerate(vector)]\n",
    "        return vector\n",
    "        \n",
    "    def sents2vectors(self)\n",
    "        self.simple_vectors = {sent_idx:self.doc2vec(self.forward_index[sent_idx], idf=False)\n",
    "                               for sent_idx in self.forward_index.keys()}\n",
    "        \n",
    "        self.idf_vectors = {sent_idx:self.doc2vec(self.forward_index[sent_idx], idf=True)\n",
    "                               for sent_idx in self.forward_index.keys()}\n",
    "        \n",
    "    def ranking(self, query):\n",
    "        query_vec_simple = self.doc2vec(query, idf=False)\n",
    "        query_vec_idf = self.doc2vec(query, idf=True)\n",
    "\n",
    "        rank_simple = {}\n",
    "        rank_tfidf = {}\n",
    "        for sent_idx in self.simple_vectors.keys():\n",
    "            rank_simple[sent_idx] = cos_similarity(query_vec_simple,\n",
    "                                                   self.simple_vectors[sent_idx])\n",
    "            rank_tfidf[sent_idx] = cos_similarity(query_vec_idf,\n",
    "                                                   self.idf_vectors[sent_idx])\n",
    "            \n",
    "        return rank_simple, rank_tfidf\n",
    "            \n",
    "\n",
    "def print_serp(rank, query, sent_cnt = 20):\n",
    "    sorted_rank = sorted(rank, key = operator.itemgetter(1), reverse=True)\n",
    "    \n",
    "    print \"Query:\",\n",
    "    bprint(query)\n",
    "    for pair in sorted_rank:\n",
    "        print "
   ]
  },
  {
   "cell_type": "code",
   "execution_count": 39,
   "metadata": {
    "collapsed": false
   },
   "outputs": [],
   "source": [
    "\n",
    "norm_sentences = normalization(deepcopy(raw_sentences))"
   ]
  },
  {
   "cell_type": "code",
   "execution_count": 43,
   "metadata": {
    "collapsed": false
   },
   "outputs": [],
   "source": []
  },
  {
   "cell_type": "code",
   "execution_count": null,
   "metadata": {
    "collapsed": true
   },
   "outputs": [],
   "source": []
  },
  {
   "cell_type": "code",
   "execution_count": 51,
   "metadata": {
    "collapsed": false
   },
   "outputs": [
    {
     "name": "stdout",
     "output_type": "stream",
     "text": [
      "1169\n",
      "в конец век после падение основной они часть быть реанимировать политический активность христианский и исламский фундаменталист римский понтифик и далай лама\n",
      " В конце века после падения основной их части, была реанимирована политическая активность христианских и исламских фундаменталистов, Римского понтифика и Далай-Ламы\n",
      "1169 4738\n",
      "фокс растение препарат физика калькулятор промышленный сутки социализовать список нормальный\n",
      "в конец век после падение основной они часть быть реанимировать политический активность христианский и исламский фундаменталист римский понтифик и далай лама\n",
      "7.06390396147 житель\n",
      "4.17353220358 список\n"
     ]
    }
   ],
   "source": [
    "print len(norm_sentences)\n",
    "bprint(norm_sentences[100:101])\n",
    "bprint(raw_sentences[100:101])\n",
    "print len(forward_index), len(token_list)\n",
    "bprint(token_list[:10])\n",
    "bprint(forward_index[100])\n",
    "print tokens_idf[token_list[10]], token_list[10]\n",
    "print tokens_idf[token_list[8]], token_list[8]"
   ]
  },
  {
   "cell_type": "code",
   "execution_count": null,
   "metadata": {
    "collapsed": true
   },
   "outputs": [],
   "source": []
  },
  {
   "cell_type": "code",
   "execution_count": 24,
   "metadata": {
    "collapsed": false
   },
   "outputs": [
    {
     "name": "stdout",
     "output_type": "stream",
     "text": [
      "1169   Marc Okrand [mɑrk ˈoʊkrænd]; 3 июля  1948 ) — американский  лингвист , известен как создатель языков для народов фантастических миров кинематографа США ( клингонский , вулканский и атлантский языки)  В конце века после падения основной их части, была реанимирована политическая активность христианских и исламских фундаменталистов, Римского понтифика и Далай-Ламы\n",
      "1169 Считается, что последний носитель языка мутсун умер в 1930 году\n",
      "None\n"
     ]
    }
   ],
   "source": [
    "x = prepare_html_pages(\"./htmls/\")\n",
    "print len(x), x[1], x[100]\n",
    "t = create_forward_index(x)\n",
    "print len(t), bprint(t[10])"
   ]
  },
  {
   "cell_type": "code",
   "execution_count": null,
   "metadata": {
    "collapsed": true
   },
   "outputs": [],
   "source": []
  }
 ],
 "metadata": {
  "anaconda-cloud": {},
  "kernelspec": {
   "display_name": "Python [default]",
   "language": "python",
   "name": "python2"
  },
  "language_info": {
   "codemirror_mode": {
    "name": "ipython",
    "version": 2
   },
   "file_extension": ".py",
   "mimetype": "text/x-python",
   "name": "python",
   "nbconvert_exporter": "python",
   "pygments_lexer": "ipython2",
   "version": "2.7.12"
  }
 },
 "nbformat": 4,
 "nbformat_minor": 2
}
