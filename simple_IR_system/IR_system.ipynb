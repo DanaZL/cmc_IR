{
 "cells": [
  {
   "cell_type": "code",
   "execution_count": 25,
   "metadata": {
    "collapsed": false
   },
   "outputs": [
    {
     "ename": "NameError",
     "evalue": "name 'pymorphy2' is not defined",
     "output_type": "error",
     "traceback": [
      "\u001b[0;31m---------------------------------------------------------------------------\u001b[0m",
      "\u001b[0;31mNameError\u001b[0m                                 Traceback (most recent call last)",
      "\u001b[0;32m<ipython-input-25-55b5db344e2c>\u001b[0m in \u001b[0;36m<module>\u001b[0;34m()\u001b[0m\n\u001b[1;32m      3\u001b[0m \u001b[0;32mimport\u001b[0m \u001b[0murllib\u001b[0m\u001b[0;34m\u001b[0m\u001b[0m\n\u001b[1;32m      4\u001b[0m \u001b[0;32mimport\u001b[0m \u001b[0mos\u001b[0m\u001b[0;34m\u001b[0m\u001b[0m\n\u001b[0;32m----> 5\u001b[0;31m \u001b[0mRusLem\u001b[0m \u001b[0;34m=\u001b[0m \u001b[0mpymorphy2\u001b[0m\u001b[0;34m.\u001b[0m\u001b[0mMorphAnalyzer\u001b[0m\u001b[0;34m(\u001b[0m\u001b[0;34m)\u001b[0m\u001b[0;34m\u001b[0m\u001b[0m\n\u001b[0m\u001b[1;32m      6\u001b[0m \u001b[0;34m\u001b[0m\u001b[0m\n\u001b[1;32m      7\u001b[0m \u001b[0;32mdef\u001b[0m \u001b[0mbprint\u001b[0m\u001b[0;34m(\u001b[0m\u001b[0ml\u001b[0m\u001b[0;34m,\u001b[0m \u001b[0msep\u001b[0m \u001b[0;34m=\u001b[0m \u001b[0;34m\" \"\u001b[0m\u001b[0;34m)\u001b[0m\u001b[0;34m:\u001b[0m\u001b[0;34m\u001b[0m\u001b[0m\n",
      "\u001b[0;31mNameError\u001b[0m: name 'pymorphy2' is not defined"
     ]
    }
   ],
   "source": [
    "from bs4 import BeautifulSoup\n",
    "from bs4.element import Comment\n",
    "import urllib\n",
    "import os\n",
    "RusLem = pymorphy2.MorphAnalyzer()\n",
    "\n",
    "def bprint(l, sep = \" \"):\n",
    "    print sep.join(l)"
   ]
  },
  {
   "cell_type": "code",
   "execution_count": 23,
   "metadata": {
    "collapsed": false
   },
   "outputs": [],
   "source": [
    "def tag_visible(element):\n",
    "    if element.parent.name in ['style', 'script', 'head', 'title', 'meta', '[document]']:\n",
    "        return False\n",
    "    if isinstance(element, Comment):\n",
    "        return False\n",
    "    return True\n",
    "\n",
    "\n",
    "def text_from_html(body):\n",
    "    soup = BeautifulSoup(body, 'html.parser')\n",
    "    texts = soup.findAll(text=True)\n",
    "    visible_texts = filter(tag_visible, texts)  \n",
    "    return u\" \".join(t.strip() for t in visible_texts)\n",
    " \n",
    "\n",
    "#get list of sentences from html pages\n",
    "def prepare_html_pages(html_dir):\n",
    "    html_files = os.listdir(html_dir)\n",
    "    sentences = []\n",
    "    for filename in html_files:\n",
    "        text = \"\" \n",
    "        with open(html_dir + filename, \"r\") as f:\n",
    "            for line in f:\n",
    "                text += line\n",
    "                \n",
    "        visible_text = text_from_html(text)\n",
    "        tokens = re.findall('[\\w]+', visible_text.lower(), re.U)\n",
    "        print bprint(tokens[:10])\n",
    "        tokens = [RusLem.parse(token)[0].normal_form for token in ]\n",
    "        sentences += .strip().split(\".\")\n",
    "    \n",
    "    return sentences\n",
    "\n",
    "#creating forward index {sent_num: list of word}\n",
    "def create_forward_index(sentences):\n",
    "    forward_index = {}\n",
    "    for sent_idx, sent in enumerate(sentences):\n",
    "        forward_index[sent_idx] = sent.strip().split()\n",
    "        \n",
    "    return forward_index\n",
    "\n",
    "def calculate_idf(sentences):\n",
    "    cnt_sentences = len(sentences)\n",
    "    token_idf\n",
    "    for sent in sente\n"
   ]
  },
  {
   "cell_type": "code",
   "execution_count": 24,
   "metadata": {
    "collapsed": false
   },
   "outputs": [
    {
     "name": "stdout",
     "output_type": "stream",
     "text": [
      "1169   Marc Okrand [mɑrk ˈoʊkrænd]; 3 июля  1948 ) — американский  лингвист , известен как создатель языков для народов фантастических миров кинематографа США ( клингонский , вулканский и атлантский языки)  В конце века после падения основной их части, была реанимирована политическая активность христианских и исламских фундаменталистов, Римского понтифика и Далай-Ламы\n",
      "1169 Считается, что последний носитель языка мутсун умер в 1930 году\n",
      "None\n"
     ]
    }
   ],
   "source": [
    "x = prepare_html_pages(\"./htmls/\")\n",
    "print len(x), x[1], x[100]\n",
    "t = create_forward_index(x)\n",
    "print len(t), bprint(t[10])"
   ]
  },
  {
   "cell_type": "code",
   "execution_count": null,
   "metadata": {
    "collapsed": true
   },
   "outputs": [],
   "source": []
  }
 ],
 "metadata": {
  "anaconda-cloud": {},
  "kernelspec": {
   "display_name": "Python [default]",
   "language": "python",
   "name": "python2"
  },
  "language_info": {
   "codemirror_mode": {
    "name": "ipython",
    "version": 2
   },
   "file_extension": ".py",
   "mimetype": "text/x-python",
   "name": "python",
   "nbconvert_exporter": "python",
   "pygments_lexer": "ipython2",
   "version": "2.7.12"
  }
 },
 "nbformat": 4,
 "nbformat_minor": 2
}
