{
 "cells": [
  {
   "cell_type": "markdown",
   "metadata": {},
   "source": [
    "Запрос к поисковой системе состоит из двух слов: a b\n",
    "\n",
    "В коллекции имеются следующие документы:\n",
    "\n",
    "a b c d\n",
    "\n",
    "a a a\n",
    "\n",
    "b b c\n",
    "\n",
    "a b b c\n",
    "\n",
    "Других документов в коллекции нет.\n",
    "\n",
    "Примените языковую модель к этой коллекции.\n",
    "\n",
    "Сравните лямбда=0.5 и лямбда=0.9\n",
    "\n",
    "Как упорядочатся документы при этих значениях\n",
    "лямбда"
   ]
  },
  {
   "cell_type": "code",
   "execution_count": 4,
   "metadata": {},
   "outputs": [
    {
     "name": "stdout",
     "output_type": "stream",
     "text": [
      "P(Q|d1) = 0.0921556122449\n",
      "P(Q|d2) = 0.121173469388\n",
      "P(Q|d3) = 0.0914115646259\n",
      "P(Q|d4) = 0.130102040816\n",
      "Документы в порядке убывания релевантности, при lambda=0.5: d4 d2 d1 d3\n"
     ]
    }
   ],
   "source": [
    "#lambda = 0.5\n",
    "P_a = 5.0 / 14\n",
    "P_b = 5.0 / 14\n",
    "P_Q_d1 = (0.5 * P_a + 0.5 * (1.0 / 4)) * (0.5 * P_b + 0.5 * (1.0 / 4))\n",
    "P_Q_d2 = (0.5 * P_a + 0.5 * (3.0 / 3)) * (0.5 * P_b + 0.5 * (0.0 / 3))\n",
    "P_Q_d3 = (0.5 * P_a + 0.5 * (0.0 / 3)) * (0.5 * P_b + 0.5 * (2.0 / 3))\n",
    "P_Q_d4 = (0.5 * P_a + 0.5 * (1.0 / 4)) * (0.5 * P_b + 0.5 * (2.0 / 4))\n",
    "\n",
    "print \"P(Q|d1) =\", P_Q_d1\n",
    "print \"P(Q|d2) =\", P_Q_d2\n",
    "print \"P(Q|d3) =\", P_Q_d3\n",
    "print \"P(Q|d4) =\", P_Q_d4\n",
    "\n",
    "print \"Документы в порядке убывания релевантности, при lambda=0.5: d4 d2 d1 d3\""
   ]
  },
  {
   "cell_type": "code",
   "execution_count": 6,
   "metadata": {},
   "outputs": [
    {
     "name": "stdout",
     "output_type": "stream",
     "text": [
      "P(Q|d1) = 0.0679719387755\n",
      "P(Q|d2) = 0.0334183673469\n",
      "P(Q|d3) = 0.0227040816327\n",
      "P(Q|d4) = 0.126632653061\n",
      "Документы в порядке убывания релевантности, при lambda=0.9: d4 d1 d2 d3\n"
     ]
    }
   ],
   "source": [
    "#lambda = 0.9\n",
    "P_a = 5.0 / 14\n",
    "P_b = 5.0 / 14\n",
    "P_Q_d1 = (0.1 * P_a + 0.9 * (1.0 / 4)) * (0.1 * P_b + 0.9 * (1.0 / 4))\n",
    "P_Q_d2 = (0.1 * P_a + 0.9 * (3.0 / 3)) * (0.1 * P_b + 0.9 * (0.0 / 3))\n",
    "P_Q_d3 = (0.1 * P_a + 0.9 * (0.0 / 3)) * (0.1 * P_b + 0.9 * (2.0 / 3))\n",
    "P_Q_d4 = (0.1 * P_a + 0.9 * (1.0 / 4)) * (0.1 * P_b + 0.9 * (2.0 / 4))\n",
    "\n",
    "print \"P(Q|d1) =\", P_Q_d1\n",
    "print \"P(Q|d2) =\", P_Q_d2\n",
    "print \"P(Q|d3) =\", P_Q_d3\n",
    "print \"P(Q|d4) =\", P_Q_d4\n",
    "\n",
    "print \"Документы в порядке убывания релевантности, при lambda=0.9: d4 d1 d2 d3\""
   ]
  },
  {
   "cell_type": "code",
   "execution_count": null,
   "metadata": {
    "collapsed": true
   },
   "outputs": [],
   "source": []
  }
 ],
 "metadata": {
  "kernelspec": {
   "display_name": "Python 2",
   "language": "python",
   "name": "python2"
  },
  "language_info": {
   "codemirror_mode": {
    "name": "ipython",
    "version": 2
   },
   "file_extension": ".py",
   "mimetype": "text/x-python",
   "name": "python",
   "nbconvert_exporter": "python",
   "pygments_lexer": "ipython2",
   "version": "2.7.13"
  }
 },
 "nbformat": 4,
 "nbformat_minor": 2
}
