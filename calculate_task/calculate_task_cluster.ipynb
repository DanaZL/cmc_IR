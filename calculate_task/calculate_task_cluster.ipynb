{
 "cells": [
  {
   "cell_type": "code",
   "execution_count": 40,
   "metadata": {
    "collapsed": false
   },
   "outputs": [],
   "source": [
    "import numpy as np\n",
    "from operator import itemgetter\n",
    "\n",
    "def cos_similarity(vec_1, vec_2):\n",
    "    return np.sum(vec_1 * vec_2) / float(np.sqrt(np.sum(vec_1**2)) * np.sqrt(np.sum(vec_2**2)))\n"
   ]
  },
  {
   "cell_type": "code",
   "execution_count": 41,
   "metadata": {
    "collapsed": false
   },
   "outputs": [],
   "source": [
    "a = np.asarray([0.6, 1.9])\n",
    "b = np.asarray([1.8, 1.6])\n",
    "c = np.asarray([2.7, 2.0])\n",
    "d = np.asarray([3.0, 2.1])\n",
    "e = np.asarray([3.0, 2.6])\n",
    "f = np.asarray([3.1, 4.5])\n",
    "g = np.asarray([3.8, 0.6])\n",
    "h = np.asarray([4.2, 2.7])"
   ]
  },
  {
   "cell_type": "code",
   "execution_count": 42,
   "metadata": {
    "collapsed": true
   },
   "outputs": [],
   "source": [
    "clusters = [[a] , [b], [c], [d], [e], [f], [g], [h]]"
   ]
  },
  {
   "cell_type": "code",
   "execution_count": 45,
   "metadata": {
    "collapsed": true
   },
   "outputs": [],
   "source": [
    "def sim_between_clusters(clusters, link = \"single\"):\n",
    "    sims = []\n",
    "    for idx_1, i in enumerate(clusters):\n",
    "        for idx_2, j in enumerate(clusters[idx_1 + 1:]):\n",
    "            point_sims = []\n",
    "            for p1 in i:\n",
    "                for p2 in j:\n",
    "                    point_sims.append(cos_similarity(p1, p2))\n",
    "            if link == 'single':\n",
    "                cur_sim = max(point_sims)\n",
    "            elif link == 'complete':\n",
    "                cur_sim = min(point_sims)\n",
    "            sims.append((idx_1, idx_1 + 1 + idx_2, cur_sim))\n",
    "    \n",
    "    sims.sort(key=itemgetter(2))\n",
    "    \n",
    "    for x in sims[::-1][:3]:\n",
    "        print \"Cluster idxs: \", x[0], x[1], \"\\tSim \", x[2]"
   ]
  },
  {
   "cell_type": "code",
   "execution_count": 46,
   "metadata": {
    "collapsed": false
   },
   "outputs": [
    {
     "name": "stdout",
     "output_type": "stream",
     "text": [
      "Cluster idxs:  1 4 \tSim  0.999921229175\n",
      "Cluster idxs:  2 3 \tSim  0.999640289362\n",
      "Cluster idxs:  3 7 \tSim  0.999224373929\n"
     ]
    }
   ],
   "source": [
    "sim_between_clusters(clusters=clusters)"
   ]
  },
  {
   "cell_type": "code",
   "execution_count": 51,
   "metadata": {
    "collapsed": true
   },
   "outputs": [],
   "source": [
    "clusters_1 = [[a] , [b, e], [c], [d], [f], [g], [h]]"
   ]
  },
  {
   "cell_type": "code",
   "execution_count": 49,
   "metadata": {
    "collapsed": false
   },
   "outputs": [
    {
     "name": "stdout",
     "output_type": "stream",
     "text": [
      "Cluster idxs:  2 3 \tSim  0.999640289362\n",
      "Cluster idxs:  3 6 \tSim  0.999224373929\n",
      "Cluster idxs:  2 6 \tSim  0.997808831335\n"
     ]
    }
   ],
   "source": [
    "sim_between_clusters(clusters=clusters_1)"
   ]
  },
  {
   "cell_type": "code",
   "execution_count": 53,
   "metadata": {
    "collapsed": true
   },
   "outputs": [],
   "source": [
    "clusters_2 = [[a] , [b, e], [c, d], [f], [g], [h]]"
   ]
  },
  {
   "cell_type": "code",
   "execution_count": 54,
   "metadata": {
    "collapsed": false
   },
   "outputs": [
    {
     "name": "stdout",
     "output_type": "stream",
     "text": [
      "Cluster idxs:  2 5 \tSim  0.999224373929\n",
      "Cluster idxs:  1 2 \tSim  0.99707209862\n",
      "Cluster idxs:  1 5 \tSim  0.989828050952\n"
     ]
    }
   ],
   "source": [
    "sim_between_clusters(clusters=clusters_2)"
   ]
  },
  {
   "cell_type": "code",
   "execution_count": 57,
   "metadata": {
    "collapsed": true
   },
   "outputs": [],
   "source": [
    "clusters_3 = [[a] , [b, e], [c, d, h], [f], [g]]"
   ]
  },
  {
   "cell_type": "code",
   "execution_count": 58,
   "metadata": {
    "collapsed": false
   },
   "outputs": [
    {
     "name": "stdout",
     "output_type": "stream",
     "text": [
      "Cluster idxs:  1 2 \tSim  0.99707209862\n",
      "Cluster idxs:  1 3 \tSim  0.971117891225\n",
      "Cluster idxs:  0 3 \tSim  0.95611597476\n"
     ]
    }
   ],
   "source": [
    "sim_between_clusters(clusters=clusters_3)"
   ]
  },
  {
   "cell_type": "code",
   "execution_count": 59,
   "metadata": {
    "collapsed": true
   },
   "outputs": [],
   "source": [
    "clusters_4 = [[a] , [b, e, c, d, h], [f], [g]]"
   ]
  },
  {
   "cell_type": "code",
   "execution_count": 60,
   "metadata": {
    "collapsed": false
   },
   "outputs": [
    {
     "name": "stdout",
     "output_type": "stream",
     "text": [
      "Cluster idxs:  1 2 \tSim  0.971117891225\n",
      "Cluster idxs:  0 2 \tSim  0.95611597476\n",
      "Cluster idxs:  1 3 \tSim  0.915222890775\n"
     ]
    }
   ],
   "source": [
    "sim_between_clusters(clusters=clusters_4)"
   ]
  },
  {
   "cell_type": "code",
   "execution_count": 61,
   "metadata": {
    "collapsed": true
   },
   "outputs": [],
   "source": [
    "clusters_5 = [[a] , [b, e, c, d, h, f], [g]]"
   ]
  },
  {
   "cell_type": "code",
   "execution_count": 62,
   "metadata": {
    "collapsed": false
   },
   "outputs": [
    {
     "name": "stdout",
     "output_type": "stream",
     "text": [
      "Cluster idxs:  0 1 \tSim  0.95611597476\n",
      "Cluster idxs:  1 2 \tSim  0.915222890775\n",
      "Cluster idxs:  0 2 \tSim  0.446169619421\n"
     ]
    }
   ],
   "source": [
    "sim_between_clusters(clusters=clusters_5)"
   ]
  },
  {
   "cell_type": "code",
   "execution_count": 63,
   "metadata": {
    "collapsed": true
   },
   "outputs": [],
   "source": [
    "clusters_6 = [[a,b, e, c, d, h, f], [g]]"
   ]
  },
  {
   "cell_type": "code",
   "execution_count": 65,
   "metadata": {
    "collapsed": true
   },
   "outputs": [],
   "source": [
    "clusters_7 = [[a,b, e, c, d, h, f, g]]"
   ]
  },
  {
   "cell_type": "markdown",
   "metadata": {},
   "source": [
    "![caption](./cmc_IR.tar.png)"
   ]
  },
  {
   "cell_type": "code",
   "execution_count": null,
   "metadata": {
    "collapsed": true
   },
   "outputs": [],
   "source": []
  }
 ],
 "metadata": {
  "anaconda-cloud": {},
  "kernelspec": {
   "display_name": "Python [conda root]",
   "language": "python",
   "name": "conda-root-py"
  },
  "language_info": {
   "codemirror_mode": {
    "name": "ipython",
    "version": 2
   },
   "file_extension": ".py",
   "mimetype": "text/x-python",
   "name": "python",
   "nbconvert_exporter": "python",
   "pygments_lexer": "ipython2",
   "version": "2.7.12"
  }
 },
 "nbformat": 4,
 "nbformat_minor": 2
}
