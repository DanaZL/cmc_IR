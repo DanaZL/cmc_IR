{
 "cells": [
  {
   "cell_type": "code",
   "execution_count": 3,
   "metadata": {
    "collapsed": false
   },
   "outputs": [],
   "source": [
    "import numpy as np"
   ]
  },
  {
   "cell_type": "code",
   "execution_count": 13,
   "metadata": {
    "collapsed": false
   },
   "outputs": [],
   "source": [
    "ranks = np.array([1/3., 1/3., 1/3.])\n",
    "trainsition = np.asarray([[0, 1/2., 1/2.], [0, 0, 1], [0, 1, 0]])\n",
    "teleport = np.asarray([[1/3., 1/3., 1/3.], [1/3., 1/3., 1/3.], [1/3., 1/3., 1/3.]])"
   ]
  },
  {
   "cell_type": "code",
   "execution_count": 14,
   "metadata": {
    "collapsed": false
   },
   "outputs": [
    {
     "name": "stdout",
     "output_type": "stream",
     "text": [
      "[[ 0.03333333  0.48333333  0.48333333]\n",
      " [ 0.03333333  0.03333333  0.93333333]\n",
      " [ 0.03333333  0.93333333  0.03333333]]\n"
     ]
    }
   ],
   "source": [
    "P = 0.9 * trainsition + 0.1 * teleport\n",
    "print P"
   ]
  },
  {
   "cell_type": "code",
   "execution_count": 15,
   "metadata": {
    "collapsed": false
   },
   "outputs": [
    {
     "name": "stdout",
     "output_type": "stream",
     "text": [
      "[ 0.03333333  0.48333333  0.48333333]\n"
     ]
    }
   ],
   "source": [
    "ranks = np.dot(ranks, P)\n",
    "print ranks"
   ]
  },
  {
   "cell_type": "code",
   "execution_count": 18,
   "metadata": {
    "collapsed": false
   },
   "outputs": [
    {
     "name": "stdout",
     "output_type": "stream",
     "text": [
      "[ 0.03333333  0.48333333  0.48333333]\n"
     ]
    }
   ],
   "source": [
    "ranks = np.dot(ranks, P)\n",
    "print ranks"
   ]
  },
  {
   "cell_type": "markdown",
   "metadata": {},
   "source": [
    "Ответ: Page rank документов 1, 2, 3 : 0.03333333, 0.48333333, 0.48333333"
   ]
  },
  {
   "cell_type": "code",
   "execution_count": null,
   "metadata": {
    "collapsed": true
   },
   "outputs": [],
   "source": []
  }
 ],
 "metadata": {
  "kernelspec": {
   "display_name": "Python [conda root]",
   "language": "python",
   "name": "conda-root-py"
  },
  "language_info": {
   "codemirror_mode": {
    "name": "ipython",
    "version": 2
   },
   "file_extension": ".py",
   "mimetype": "text/x-python",
   "name": "python",
   "nbconvert_exporter": "python",
   "pygments_lexer": "ipython2",
   "version": "2.7.12"
  }
 },
 "nbformat": 4,
 "nbformat_minor": 2
}
