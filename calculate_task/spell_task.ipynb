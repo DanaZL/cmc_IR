{
 "cells": [
  {
   "cell_type": "code",
   "execution_count": null,
   "metadata": {
    "collapsed": true
   },
   "outputs": [],
   "source": [
    "Встретилось слово hodtel.\n",
    "Какое исходно слово наиболее вероятно:\n",
    "hotel, hostel\n",
    "-Ошибка od|o встречалась 9 раз\n",
    "-Ошибка d|s- встречалась 7 раз\n",
    "-Hotel встречается в пять раз чаще, чем hostel\n",
    "-Буква o встречается в корпусе в 1.2 раза чаще,\n",
    "чем буква s\n",
    "\n",
    "Два варианта расчета:\n",
    "-Без сглаживания\n",
    "-Сглаживание по Лапласу"
   ]
  },
  {
   "cell_type": "code",
   "execution_count": null,
   "metadata": {
    "collapsed": true
   },
   "outputs": [],
   "source": [
    "p(hotel) = 5 * p(hostel)\n",
    "N(o) = 1.2 * N(s) \n",
    "\n",
    "Без сглаживания:\n",
    "p(hotel|hodtel) = (p(hodtel|hotel) * p(hotel)) / p(hodtel) =\n",
    "#убираем знаменатель, так как он не нужен для сравнения\n",
    "= p(od->o|o) * 5 * p(hostel) = 9 * 5 * p(hostel) / (1.2 * N(s)) = 37.5 * p(hostel) / N(s)\n",
    "\n",
    "p(hostel|hodtel) = p(d->s|d) * p(hostel) = 7 * p(hostel) / N(s)\n",
    "\n",
    "Значит, без сглаживания слово hotel вероятнее\n",
    "\n",
    "\n",
    "Cо сглаживанием:\n",
    "p(hotel|hodtel) = (p(hodtel|hotel) * p(hotel)) / p(hodtel) =\n",
    "#убираем знаменатель, так как он не нужен для сравнения\n",
    "= p(od->o|o) * 5 * p(hostel) = (9 + 1) / ((1.2 * N(s)) + 26) * 5 * p(hostel) = 50 * p(hostel) / (1.2 * N(s) + 26)\n",
    "\n",
    "p(hostel|hodtel) = p(d->s|d) * p(hostel) = ((7 + 1) / (N(s) + 26)) * p(hostel) = 8 * p(hostel) / (N(s) + 26)\n",
    "\n",
    "p(hotel|hodtel) / p(hostel|hodtel) = (6.25 * (N(s) + 26)) / (1.2 * N(s) + 26) > 1\n",
    "\n",
    "Значит, со сглаживанием слово hotel вероятнее"
   ]
  }
 ],
 "metadata": {
  "anaconda-cloud": {},
  "kernelspec": {
   "display_name": "Python [conda root]",
   "language": "python",
   "name": "conda-root-py"
  },
  "language_info": {
   "codemirror_mode": {
    "name": "ipython",
    "version": 2
   },
   "file_extension": ".py",
   "mimetype": "text/x-python",
   "name": "python",
   "nbconvert_exporter": "python",
   "pygments_lexer": "ipython2",
   "version": "2.7.12"
  }
 },
 "nbformat": 4,
 "nbformat_minor": 2
}
