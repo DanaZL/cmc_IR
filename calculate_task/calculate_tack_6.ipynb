{
 "cells": [
  {
   "cell_type": "markdown",
   "metadata": {},
   "source": [
    "# Задача 1"
   ]
  },
  {
   "cell_type": "raw",
   "metadata": {},
   "source": [
    "Система рубрикации должна классифицировать\n",
    "поток документов по двум рубрикам.\n",
    "\n",
    "Эксперт отнес к первой рубрике 75 документов, ко\n",
    "второй рубрике – 50 документов.\n",
    "\n",
    "Система отнесла:\n",
    "\n",
    "- к первой рубрике 100 документов, из них 50\n",
    "правильно.\n",
    "\n",
    "- ко второй рубрике 40 документов, из них 30\n",
    "правильно.\n",
    "\n",
    "Найти макро-характеристики качества\n",
    "классификации (точность, полноту, F-меру) - и микро-\n",
    "характеристики (точность, полноту, F-меру)."
   ]
  },
  {
   "cell_type": "code",
   "execution_count": 16,
   "metadata": {
    "collapsed": false
   },
   "outputs": [],
   "source": [
    "TP_1 = 50.\n",
    "FP_1 = 50.\n",
    "FN_1 = 25.\n",
    "TP_2 = 30.\n",
    "FP_2 = 10.\n",
    "FN_2 = 20\n",
    "\n",
    "TP_all = TP_1 + TP_2\n",
    "FP_all = FP_1 + FP_2\n",
    "FN_all = FN_1 + FN_2\n",
    "\n",
    "P_1 = TP_1 / (TP_1 + FP_1)\n",
    "P_2 = TP_2 / (TP_2 + FP_2)\n",
    "R_1 = TP_1 / (TP_1 + FN_1)\n",
    "R_2 = TP_2 / (TP_2 + FN_2)"
   ]
  },
  {
   "cell_type": "code",
   "execution_count": 17,
   "metadata": {
    "collapsed": false
   },
   "outputs": [],
   "source": [
    "macro_P = (P_1 + P_2) / 2. \n",
    "macro_R = (R_1 + R_2) / 2. \n",
    "F1_1 = (2 * P_1 * R_1) / (P_1 + R_1)\n",
    "F1_2 = (2 * P_2 * R_2) / (P_2 + R_2)\n",
    "macro_F1 = (F1_1 + F1_2) / 2. \n",
    "\n",
    "micro_P = TP_all / (TP_all + FP_all)\n",
    "micro_R = TP_all / (TP_all + FN_all)\n",
    "micro_F1 = (2 * micro_P * micro_R) / (micro_P + micro_R)"
   ]
  },
  {
   "cell_type": "code",
   "execution_count": 12,
   "metadata": {
    "collapsed": false
   },
   "outputs": [
    {
     "name": "stdout",
     "output_type": "stream",
     "text": [
      "Макро-характеристики:\n",
      "Точность: 0.625\n",
      "Полнота: 0.633333333333\n",
      "F1: 0.619047619048\n"
     ]
    }
   ],
   "source": [
    "print \"Макро-характеристики:\"\n",
    "\n",
    "print \"Точность:\", macro_P\n",
    "print \"Полнота:\", macro_R\n",
    "print \"F1:\", macro_F1"
   ]
  },
  {
   "cell_type": "code",
   "execution_count": 18,
   "metadata": {
    "collapsed": false
   },
   "outputs": [
    {
     "name": "stdout",
     "output_type": "stream",
     "text": [
      "Микро-характеристики:\n",
      "Точность: 0.571428571429\n",
      "Полнота: 0.64\n",
      "F1: 0.603773584906\n"
     ]
    }
   ],
   "source": [
    "print \"Микро-характеристики:\"\n",
    "\n",
    "print \"Точность:\", micro_P\n",
    "print \"Полнота:\", micro_R\n",
    "print \"F1:\", micro_F1"
   ]
  },
  {
   "cell_type": "markdown",
   "metadata": {},
   "source": [
    "# Задача 2"
   ]
  },
  {
   "cell_type": "raw",
   "metadata": {},
   "source": [
    "Даны документы и их классы С1 и С2\n",
    "\n",
    "D1=(X1, X2, X3) C1\n",
    "D2=(X1, X2, X4) C1\n",
    "D3=(X4, X5, X6) C2\n",
    "\n",
    "Определить класс документа на основе\n",
    "метода наивного Байеса\n",
    "\n",
    "D4 (X1, X4, X5)"
   ]
  },
  {
   "cell_type": "code",
   "execution_count": null,
   "metadata": {
    "collapsed": false
   },
   "outputs": [],
   "source": [
    "P(X1|C1) = (2 + 1) / (6 + 6) = 3. / 12\n",
    "P(X4|C1) = (1 + 1) / (6 + 6) = 1. / 6\n",
    "P(X5|C1) = (0 + 1) / (6 + 6) = 1. / 12\n",
    "\n",
    "P(X1|C2) = (0 + 1) / (3 + 6) = 1. / 9\n",
    "P(X4|C2) = (1 + 1) / (3 + 6) = 2. / 9\n",
    "P(X5|C2) = (1 + 1) / (3 + 6) = 2. / 9\n",
    "\n",
    "P(D4|C1) = P(X1|C1) * P(X4|C1) * P(X5|C1) = 0.003472222\n",
    "P(C1|D4) = (P(D4|C1) * P(C1)) / P(D4) = (0.003472222 * 2/3) / (1./4) = 0.009259259\n",
    "\n",
    "P(D4|C2) = P(X1|C2) * P(X4|C2) * P(X5|C1) = 0.005486968\n",
    "P(C2|D4) = (P(D4|C2) * P(C2)) / P(D4) = (0.005486968 * 1./3) / (1./4) = 0.007315957\n",
    "\n",
    "Ответ: P(C1|D4) > P(C2|D4), значит документ 4 принадлежит классу 1"
   ]
  }
 ],
 "metadata": {
  "anaconda-cloud": {},
  "kernelspec": {
   "display_name": "Python [conda root]",
   "language": "python",
   "name": "conda-root-py"
  },
  "language_info": {
   "codemirror_mode": {
    "name": "ipython",
    "version": 2
   },
   "file_extension": ".py",
   "mimetype": "text/x-python",
   "name": "python",
   "nbconvert_exporter": "python",
   "pygments_lexer": "ipython2",
   "version": "2.7.12"
  }
 },
 "nbformat": 4,
 "nbformat_minor": 2
}
