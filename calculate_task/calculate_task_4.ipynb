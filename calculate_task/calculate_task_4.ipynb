{
 "cells": [
  {
   "cell_type": "code",
   "execution_count": 1,
   "metadata": {
    "collapsed": true
   },
   "outputs": [],
   "source": [
    "import numpy as np"
   ]
  },
  {
   "cell_type": "code",
   "execution_count": null,
   "metadata": {
    "collapsed": true
   },
   "outputs": [],
   "source": [
    "вектор запроса: {отбор: 1, кандидат: 1}\n",
    "ненормализованный вектор документа \"Кандидат отобрать претендент\": {кандидат:1 * log(1000000/70000, \n",
    "                                                                    отобрать:1 * log(1000000/50000),\n",
    "                                                                    претендент: 1 * log(1000000 / 30000))} \n",
    "ненормализованный вектор документа \"Отбор выбрать претендент\": {отбор:1 * log(1000000/70000), \n",
    "                                                                    выбрать:1 * log(1000000/70000),\n",
    "                                                                    претендент: 1 * log(1000000 / 30000))} \n",
    "    \n",
    "нормализованный вектор документа \"Кандидат отобрать претендент\": {кандидат:0.516027707106, \n",
    "                                                                    отобрать:0.516027707106,\n",
    "                                                                    претендент: 0.585770092555} \n",
    "    \n",
    "нормализованный вектор документа \"Отбор выбрать претендент\": {отбор:0.497275458496, \n",
    "                                                                выбрать:0.658844118789,\n",
    "                                                                претендент:0.564483432454)} \n",
    "alpha = 0.7\n",
    "beta = 0.3\n",
    "q_нового_запроса = {отбор:0.7, кандидат:0.7} + 0.3 * 0.5 * {кандидат: 0.0.516027707106, \n",
    "                                                           отбор:0.497275458496,\n",
    "                                                           отобрать:0.516027707106,\n",
    "                                                           выбрать:0.658844118789,\n",
    "                                                           претендент: 0.585770092555 + 0.564483432454}\n",
    "q_нового_запроса = {отбор:0.7, кандидат:0.7} + {кандидат:0.077404156, \n",
    "                                               отбор:0.074591319,\n",
    "                                               отобрать:0.077404156,\n",
    "                                               выбрать:0.098826618,\n",
    "                                               претендент:0,172538029}\n",
    "\n",
    "Ответ:\n",
    "q_нового_запроса = {отбор: 0.774591319, кандидат:0.777404156,\n",
    "                   отобрать:0.077404156, выбрать:0.098826618,\n",
    "                    претендент:0,172538029}\n",
    "\n"
   ]
  },
  {
   "cell_type": "code",
   "execution_count": 4,
   "metadata": {
    "collapsed": false
   },
   "outputs": [
    {
     "name": "stdout",
     "output_type": "stream",
     "text": [
      "0.497275458496\n",
      "0.658844118789\n",
      "0.564483432454\n"
     ]
    }
   ],
   "source": [
    "print np.log(1000000/70000) / float(np.sqrt(np.log(1000000/50000)**2 + np.log(1000000/70000)**2 +  np.log(1000000/30000)**2))\n",
    "print np.log(1000000/30000) / float(np.sqrt(np.log(1000000/50000)**2 + np.log(1000000/70000)**2 +  np.log(1000000/30000)**2))\n",
    "print np.log(1000000/50000) / float(np.sqrt(np.log(1000000/50000)**2 + np.log(1000000/70000)**2 +  np.log(1000000/30000)**2))\n"
   ]
  },
  {
   "cell_type": "code",
   "execution_count": 5,
   "metadata": {
    "collapsed": false
   },
   "outputs": [
    {
     "name": "stdout",
     "output_type": "stream",
     "text": [
      "0.516027707106\n",
      "0.516027707106\n",
      "0.585770092555\n"
     ]
    }
   ],
   "source": [
    "print np.log(1000000/70000) / float(np.sqrt(np.log(1000000/70000)**2 + np.log(1000000/70000)**2 +  np.log(1000000/30000)**2))\n",
    "print np.log(1000000/70000) / float(np.sqrt(np.log(1000000/70000)**2 + np.log(1000000/70000)**2 +  np.log(1000000/30000)**2))\n",
    "print np.log(1000000/50000) / float(np.sqrt(np.log(1000000/70000)**2 + np.log(1000000/70000)**2 +  np.log(1000000/30000)**2))"
   ]
  },
  {
   "cell_type": "code",
   "execution_count": null,
   "metadata": {
    "collapsed": true
   },
   "outputs": [],
   "source": []
  }
 ],
 "metadata": {
  "anaconda-cloud": {},
  "kernelspec": {
   "display_name": "Python [conda root]",
   "language": "python",
   "name": "conda-root-py"
  },
  "language_info": {
   "codemirror_mode": {
    "name": "ipython",
    "version": 2
   },
   "file_extension": ".py",
   "mimetype": "text/x-python",
   "name": "python",
   "nbconvert_exporter": "python",
   "pygments_lexer": "ipython2",
   "version": "2.7.12"
  }
 },
 "nbformat": 4,
 "nbformat_minor": 2
}
