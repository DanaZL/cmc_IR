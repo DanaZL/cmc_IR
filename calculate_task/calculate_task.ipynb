{
 "cells": [
  {
   "cell_type": "code",
   "execution_count": 4,
   "metadata": {
    "collapsed": true
   },
   "outputs": [],
   "source": [
    "import numpy as np"
   ]
  },
  {
   "cell_type": "markdown",
   "metadata": {},
   "source": [
    "<img src= \"./1.png\">"
   ]
  },
  {
   "cell_type": "markdown",
   "metadata": {
    "collapsed": true
   },
   "source": [
    "One-hot encoding: Вектора запроса и документа представляются в пространстве [car, auto, insurance, best]\n",
    "\n",
    "Запрос: Car insurance"
   ]
  },
  {
   "cell_type": "code",
   "execution_count": 21,
   "metadata": {
    "collapsed": false
   },
   "outputs": [
    {
     "name": "stdout",
     "output_type": "stream",
     "text": [
      "Нормализованный вектор документа d1: [ 0.74106897  0.38865283  0.          0.54750868]\n",
      "Нормализованный вектор документа d2: [ 0.27465219  0.75860367  0.59083555  0.        ]\n",
      "Нормализованный вектор документа d3: [ 0.60383263  0.          0.62643392  0.49291652]\n",
      "\n",
      "Rank документа d1: 0.524014897036\n",
      "Rank документа d2: 0.611992249525\n",
      "Rank документа d3: 0.869929820023\n",
      "Документы упорядочиваются в порядке d3, d2, d1\n"
     ]
    }
   ],
   "source": [
    "#Веса idf\n",
    "idf_vec = [1.65, 2.08, 1.62, 1.5]\n",
    "\n",
    "#Вектора запроса и документов\n",
    "query_vec = np.asarray([1, 0, 1, 0])\n",
    "d1_vec = np.log(1 + np.asarray([27, 3, 0, 14])) * idf_vec\n",
    "d2_vec = np.log(1 + np.asarray([4, 33, 33, 0])) * idf_vec\n",
    "d3_vec = np.log(1 + np.asarray([24, 0, 29, 17])) * idf_vec\n",
    "\n",
    "#Нормализуем вектора для документов:\n",
    "d1_vec = d1_vec / (1.0 * np.sqrt(np.sum(d1_vec**2)))\n",
    "d2_vec = d2_vec / (1.0 * np.sqrt(np.sum(d2_vec**2)))\n",
    "d3_vec = d3_vec / (1.0 * np.sqrt(np.sum(d3_vec**2)))\n",
    "print \"Нормализованный вектор документа d1:\", d1_vec\n",
    "print \"Нормализованный вектор документа d2:\", d2_vec\n",
    "print \"Нормализованный вектор документа d3:\", d3_vec\n",
    "\n",
    "\n",
    "#Вычислим rank документов по отношению к запросу\n",
    "d1_rank = np.sum(d1_vec * query_vec) / float(np.sqrt(np.sum(d1_vec**2)) * np.sqrt(np.sum(query_vec**2)))\n",
    "d2_rank = np.sum(d2_vec * query_vec) / float(np.sqrt(np.sum(d2_vec**2)) * np.sqrt(np.sum(query_vec**2)))\n",
    "d3_rank = np.sum(d3_vec * query_vec) / float(np.sqrt(np.sum(d3_vec**2)) * np.sqrt(np.sum(query_vec**2)))\n",
    "print\n",
    "print \"Rank документа d1:\", d1_rank\n",
    "print \"Rank документа d2:\", d2_rank\n",
    "print \"Rank документа d3:\", d3_rank\n",
    "\n",
    "print \"Документы упорядочиваются в порядке d3, d2, d1\""
   ]
  },
  {
   "cell_type": "code",
   "execution_count": null,
   "metadata": {
    "collapsed": true
   },
   "outputs": [],
   "source": []
  }
 ],
 "metadata": {
  "anaconda-cloud": {},
  "kernelspec": {
   "display_name": "Python [conda root]",
   "language": "python",
   "name": "conda-root-py"
  },
  "language_info": {
   "codemirror_mode": {
    "name": "ipython",
    "version": 2
   },
   "file_extension": ".py",
   "mimetype": "text/x-python",
   "name": "python",
   "nbconvert_exporter": "python",
   "pygments_lexer": "ipython2",
   "version": "2.7.12"
  }
 },
 "nbformat": 4,
 "nbformat_minor": 1
}
