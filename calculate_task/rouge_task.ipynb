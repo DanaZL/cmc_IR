{
 "cells": [
  {
   "cell_type": "code",
   "execution_count": null,
   "metadata": {
    "collapsed": false
   },
   "outputs": [],
   "source": [
    "Эксперт включил в аннотацию предложение\n",
    "\n",
    "\n",
    "\"Русгидро\", \"Росгеология\", \"Транснефть\" получат предложения перенести свои главные офисы на Дальний Восток\n",
    "\n",
    "Системы извлекли предложения\n",
    "\n",
    "\n",
    "1)Компаниям «Русгидро», «Транснефть» и «Росгеология»\n",
    "предложили подумать о переезде на Дальний Восток.\n",
    "\n",
    "\n",
    "2)По словам вице-премьера по Дальнему Востоку переезд\n",
    "может как-то затронуть \"РусГидро\", \"Транснефть\" и\n",
    "\"Росгеологию\"\n",
    "\n",
    "Посчитать Rouge"
   ]
  },
  {
   "cell_type": "code",
   "execution_count": null,
   "metadata": {
    "collapsed": false
   },
   "outputs": [],
   "source": [
    "Rouge-1 для первой автоматической аннотации = 6 / 12\n",
    "Rouge-1 для второй автоматической аннотации = 5 / 12"
   ]
  }
 ],
 "metadata": {
  "kernelspec": {
   "display_name": "Python [conda root]",
   "language": "python",
   "name": "conda-root-py"
  },
  "language_info": {
   "codemirror_mode": {
    "name": "ipython",
    "version": 2
   },
   "file_extension": ".py",
   "mimetype": "text/x-python",
   "name": "python",
   "nbconvert_exporter": "python",
   "pygments_lexer": "ipython2",
   "version": "2.7.12"
  }
 },
 "nbformat": 4,
 "nbformat_minor": 2
}
