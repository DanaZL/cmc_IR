{
 "cells": [
  {
   "cell_type": "code",
   "execution_count": 19,
   "metadata": {
    "collapsed": true
   },
   "outputs": [],
   "source": [
    "import numpy as np"
   ]
  },
  {
   "cell_type": "markdown",
   "metadata": {},
   "source": [
    "# Задача 1.\n"
   ]
  },
  {
   "cell_type": "markdown",
   "metadata": {},
   "source": [
    "Эксперт нашел 20 релевантных документов.\n",
    "Система нашла 4 документа в следующей\n",
    "последовательности релевантных и\n",
    "нерелевантных документов:\n",
    "\n",
    "\n",
    "RNRNNRRNNNN\n",
    "\n",
    "\n",
    "Какова средняя точность поиска – Average\n",
    "Precision"
   ]
  },
  {
   "cell_type": "markdown",
   "metadata": {
    "collapsed": true
   },
   "source": [
    "| Rank      | Relevant   | Presicion  | Recall    |\n",
    "| --------- |:----------:| ----------:|----------:|\n",
    "| 1         | R          | 1/1        |1/20       | \n",
    "| 2         | N          | 1/2        |1/20       | \n",
    "| 3         | R          | 2/3        |2/20       | \n",
    "| 4         | N          | 2/4        |2/20       | \n",
    "| 5         | N          | 2/5        |2/20       | \n",
    "| 6         | R          | 3/6        |3/20       | \n",
    "| 7         | R          | 4/7        |4/20       | \n",
    "| 8         | N          | 4/8        |4/20       | \n",
    "| 9         | N          | 4/9        |4/20       | \n",
    "| 10        | N          | 4/10       |4/20       | \n",
    "| 11        | N          | 4/11       |4/20       |\n",
    "| 12-20~i   | N          | 4/i        |4/20       | \n"
   ]
  },
  {
   "cell_type": "code",
   "execution_count": 12,
   "metadata": {
    "collapsed": false
   },
   "outputs": [
    {
     "name": "stdout",
     "output_type": "stream",
     "text": [
      "Average Precision: 0.136904761905\n"
     ]
    }
   ],
   "source": [
    "AP = (1/1.0 + 2/3.0 + 3/6.0 + 4/7.0) / 20.0\n",
    "print \"Average Precision:\", AP"
   ]
  },
  {
   "cell_type": "markdown",
   "metadata": {},
   "source": [
    "# Задача 2."
   ]
  },
  {
   "cell_type": "markdown",
   "metadata": {},
   "source": [
    "При разметке релевантных документов эксперты использовали шкалу от 0 (нерелевантные документы) до 4 баллов.\n",
    "При тестировании систем выяснилось, что системы выдали следующие результаты поиска ответов на запрос:\n",
    " \tСистема 1: 4, 2, 3, 1, 2, 0 (и далее 0)\n",
    " \tСистема 2: 3, 2, 4, 4, 4., далее 0.\n",
    " \n",
    "Какая система ищет лучше по мере NDCG."
   ]
  },
  {
   "cell_type": "code",
   "execution_count": 43,
   "metadata": {
    "collapsed": true
   },
   "outputs": [],
   "source": [
    "def ndcg(marks):\n",
    "    marks_sorted = sorted(marks, reverse=True)\n",
    "    ideal_dcg = 0\n",
    "    i = 1\n",
    "    while marks_sorted[i - 1] != 0:\n",
    "        ideal_dcg += (1.0 * marks_sorted[i - 1]) / np.log2(i + 1)\n",
    "        i += 1\n",
    "            \n",
    "    dcg = 0\n",
    "    i = 1\n",
    "    while marks[i - 1] != 0:\n",
    "        dcg += (1.0 * marks[i - 1]) / np.log2(i + 1)\n",
    "        i += 1\n",
    "    if ideal_dcg == 0:\n",
    "        return 1\n",
    "    \n",
    "    ndcg = dcg / ideal_dcg\n",
    "    return ndcg"
   ]
  },
  {
   "cell_type": "code",
   "execution_count": 47,
   "metadata": {
    "collapsed": false
   },
   "outputs": [
    {
     "name": "stdout",
     "output_type": "stream",
     "text": [
      "NDCG для системы 1: 0.978534134899\n",
      "NDCG для системы 2: 0.900138637521\n"
     ]
    }
   ],
   "source": [
    "print u\"NDCG для системы 1:\", ndcg([4, 2, 3, 1, 2, 0])\n",
    "print u\"NDCG для системы 2:\", ndcg([3, 2, 4, 4, 4, 0])"
   ]
  }
 ],
 "metadata": {
  "anaconda-cloud": {},
  "kernelspec": {
   "display_name": "Python [conda root]",
   "language": "python",
   "name": "conda-root-py"
  },
  "language_info": {
   "codemirror_mode": {
    "name": "ipython",
    "version": 2
   },
   "file_extension": ".py",
   "mimetype": "text/x-python",
   "name": "python",
   "nbconvert_exporter": "python",
   "pygments_lexer": "ipython2",
   "version": "2.7.12"
  }
 },
 "nbformat": 4,
 "nbformat_minor": 1
}
